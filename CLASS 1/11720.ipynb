{
 "cells": [
  {
   "cell_type": "markdown",
   "metadata": {},
   "source": [
    "# [숫자의 합](https://www.acmicpc.net/problem/11720)"
   ]
  },
  {
   "cell_type": "code",
   "execution_count": null,
   "metadata": {},
   "outputs": [],
   "source": [
    "n = int(input())\n",
    "print(sum([int(input()) for _ in range(n)]))"
   ]
  },
  {
   "cell_type": "markdown",
   "metadata": {},
   "source": [
    "## sum(list)\n",
    "\n",
    "파이썬의 sum 함수는 list의 데이터들을 모두 더해줍니다.\n",
    "\n",
    "## List Comprehension\n",
    "\n",
    "```py\n",
    "[i for i in range(n)]\n",
    "```\n",
    "\n",
    "위처럼 리스트를 쓰는 방식을 리스트 컴프리헨션이라고 합니다.  \n",
    "https://bio-info.tistory.com/28 참고\n"
   ]
  }
 ],
 "metadata": {
  "kernelspec": {
   "display_name": "Python 3",
   "language": "python",
   "name": "python3"
  },
  "language_info": {
   "name": "python",
   "version": "3.12.1"
  }
 },
 "nbformat": 4,
 "nbformat_minor": 2
}
