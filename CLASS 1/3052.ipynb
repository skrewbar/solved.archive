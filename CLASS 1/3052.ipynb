{
 "cells": [
  {
   "cell_type": "markdown",
   "metadata": {},
   "source": [
    "# [나머지](https://www.acmicpc.net/problem/3052)"
   ]
  },
  {
   "cell_type": "code",
   "execution_count": null,
   "metadata": {},
   "outputs": [],
   "source": [
    "print(len(set([int(input()) % 42 for _ in range(10)])))"
   ]
  },
  {
   "cell_type": "markdown",
   "metadata": {},
   "source": [
    "코드가 한 줄임에도 불구하고 꽤 복잡한데, 하나씩 뜯어서 살펴봅시다.  \n",
    "\n",
    "## 1.\n",
    "\n",
    "```py\n",
    "[int(input()) % 42 for _ in range(10)]\n",
    "```\n",
    "\n",
    "정수를 10번 받아 각각 42로 나눈 나머지를 리스트로 저장합니다.\n",
    "\n",
    "## 2.\n",
    "\n",
    "set 함수는 iterable을 set으로 만들어줍니다. set는 '집합'이라는 뜻으로, 중복 원소를 제거하고 집합을 만들어 줍니다."
   ]
  }
 ],
 "metadata": {
  "kernelspec": {
   "display_name": "Python 3",
   "language": "python",
   "name": "python3"
  },
  "language_info": {
   "name": "python",
   "version": "3.12.1"
  }
 },
 "nbformat": 4,
 "nbformat_minor": 2
}
