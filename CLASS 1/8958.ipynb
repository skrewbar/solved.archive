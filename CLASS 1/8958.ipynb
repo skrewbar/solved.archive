{
 "cells": [
  {
   "cell_type": "markdown",
   "metadata": {},
   "source": [
    "# [OX퀴즈](https://www.acmicpc.net/problem/8958)"
   ]
  },
  {
   "cell_type": "code",
   "execution_count": null,
   "metadata": {},
   "outputs": [],
   "source": [
    "for t in range(int(input())):\n",
    "    score = 0\n",
    "    streak = 0\n",
    "    result = input()\n",
    "    for char in result:\n",
    "        if char == \"O\":\n",
    "            score += 1 + streak\n",
    "            streak += 1\n",
    "        else:\n",
    "            streak = 0\n",
    "    print(score)"
   ]
  }
 ],
 "metadata": {
  "kernelspec": {
   "display_name": "Python 3",
   "language": "python",
   "name": "python3"
  },
  "language_info": {
   "name": "python",
   "version": "3.12.1"
  }
 },
 "nbformat": 4,
 "nbformat_minor": 2
}
