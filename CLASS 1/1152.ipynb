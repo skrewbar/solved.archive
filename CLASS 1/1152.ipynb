{
 "cells": [
  {
   "cell_type": "markdown",
   "metadata": {},
   "source": [
    "# [단어의 개수](https://www.acmicpc.net/problem/1152)"
   ]
  },
  {
   "cell_type": "code",
   "execution_count": null,
   "metadata": {},
   "outputs": [],
   "source": [
    "print(len(input().split()))"
   ]
  },
  {
   "cell_type": "markdown",
   "metadata": {},
   "source": [
    "## str.split\n",
    "\n",
    "문자열1.split(문자열2)는 문자열1을 문자열2를 기준으로 잘라 리스트를 만들어 줍니다.  \n",
    "문자열2를 지정하지 않으면 기본값인 \" \"로 지정됩니다.\n",
    "\n",
    "## len\n",
    "\n",
    "len은 리스트나 문자열의 길이를 구해 줍니다."
   ]
  }
 ],
 "metadata": {
  "kernelspec": {
   "display_name": "Python 3",
   "language": "python",
   "name": "python3"
  },
  "language_info": {
   "name": "python",
   "version": "3.12.1"
  }
 },
 "nbformat": 4,
 "nbformat_minor": 2
}
