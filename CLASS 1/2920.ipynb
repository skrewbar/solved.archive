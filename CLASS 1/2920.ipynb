{
 "cells": [
  {
   "cell_type": "markdown",
   "metadata": {},
   "source": [
    "# [음계](https://www.acmicpc.net/problem/2920)"
   ]
  },
  {
   "cell_type": "code",
   "execution_count": null,
   "metadata": {},
   "outputs": [],
   "source": [
    "scales = list(map(int, input().split()))\n",
    "\n",
    "if scales == list(range(1, 9)):\n",
    "    print(\"ascending\")\n",
    "elif scales == list(range(8, 0, -1)):\n",
    "    print(\"descending\")\n",
    "else:\n",
    "    print(\"mixed\")"
   ]
  },
  {
   "cell_type": "markdown",
   "metadata": {},
   "source": [
    "## range\n",
    "\n",
    "- range(a)는 0부터 a-1까지 1씩 커집니다.  \n",
    "- range(a, b)는 a부터 b-1까지 1씩 커집니다.  \n",
    "- range(a, b, c)는 a부터 b까지 c를 공차로 하는 등차수열입니다.  \n",
    "  c가 생략된 경우가 c=1 이라고 생각하면 됩니다."
   ]
  }
 ],
 "metadata": {
  "kernelspec": {
   "display_name": "Python 3",
   "language": "python",
   "name": "python3"
  },
  "language_info": {
   "name": "python",
   "version": "3.12.1"
  }
 },
 "nbformat": 4,
 "nbformat_minor": 2
}
