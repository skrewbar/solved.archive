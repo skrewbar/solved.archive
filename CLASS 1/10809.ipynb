{
 "cells": [
  {
   "cell_type": "markdown",
   "metadata": {},
   "source": [
    "# [알파벳 찾기](https://www.acmicpc.net/problem/10809)"
   ]
  },
  {
   "cell_type": "code",
   "execution_count": null,
   "metadata": {},
   "outputs": [],
   "source": [
    "s = input()\n",
    "for char in \"abcdefghijklmnopqrstuvwxyz\":\n",
    "    try:\n",
    "        print(s.index(char), end=\" \")\n",
    "    except ValueError:\n",
    "        print(-1, end=\" \")"
   ]
  },
  {
   "cell_type": "markdown",
   "metadata": {},
   "source": [
    "## str.index\n",
    "\n",
    "문자열1.index(문자열2)는 문자열1에서 문자열2가 처음 등장한 인덱스를 구해 줍니다.\n",
    "\n",
    "\n",
    "## try, except\n",
    "\n",
    "try내의 코드를 실행하다 에러가 발생한 경우, except로 이동해 코드를 실행합니다.  \n",
    "except 뒤에 에러명을 입력해 특정한 경우만 예외처리 할 수도 있습니다."
   ]
  }
 ],
 "metadata": {
  "kernelspec": {
   "display_name": "Python 3",
   "language": "python",
   "name": "python3"
  },
  "language_info": {
   "codemirror_mode": {
    "name": "ipython",
    "version": 3
   },
   "file_extension": ".py",
   "mimetype": "text/x-python",
   "name": "python",
   "nbconvert_exporter": "python",
   "pygments_lexer": "ipython3",
   "version": "3.12.1"
  }
 },
 "nbformat": 4,
 "nbformat_minor": 2
}
