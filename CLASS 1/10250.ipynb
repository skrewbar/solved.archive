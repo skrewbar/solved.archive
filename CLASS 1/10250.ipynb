{
 "cells": [
  {
   "cell_type": "markdown",
   "metadata": {},
   "source": [
    "# [ACM 호텔](https://www.acmicpc.net/problem/10250)"
   ]
  },
  {
   "cell_type": "code",
   "execution_count": null,
   "metadata": {},
   "outputs": [],
   "source": [
    "for t in range(int(input())):\n",
    "    h, w, n = map(int, input().split())\n",
    "\n",
    "    num = n // h + 1\n",
    "    floor = n % h\n",
    "\n",
    "    if floor == 0:\n",
    "        num -= 1\n",
    "        floor = h\n",
    "\n",
    "    print(floor * 100 + num)"
   ]
  },
  {
   "cell_type": "markdown",
   "metadata": {},
   "source": [
    "맨 왼쪽 아래부터 위로 올라가다 최고층이 되면  \n",
    "다시 두번째 열에서 시작해서 위로 올라가는 방식으로 세면 된다."
   ]
  }
 ],
 "metadata": {
  "kernelspec": {
   "display_name": "Python 3",
   "language": "python",
   "name": "python3"
  },
  "language_info": {
   "name": "python",
   "version": "3.12.1"
  }
 },
 "nbformat": 4,
 "nbformat_minor": 2
}
