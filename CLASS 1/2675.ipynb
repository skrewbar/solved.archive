{
 "cells": [
  {
   "cell_type": "markdown",
   "metadata": {},
   "source": [
    "# [문자열 반복](https://www.acmicpc.net/problem/2675)"
   ]
  },
  {
   "cell_type": "code",
   "execution_count": null,
   "metadata": {},
   "outputs": [],
   "source": [
    "for t in range(int(input())):\n",
    "    r, s = input().split()\n",
    "    r = int(r)\n",
    "\n",
    "    for char in s:\n",
    "        print(char * r, end=\"\")\n",
    "    print()"
   ]
  },
  {
   "cell_type": "markdown",
   "metadata": {},
   "source": [
    "파이썬의 for문은 아래와 같은 형식으로 사용할 수 있습니다.\n",
    "\n",
    "```py\n",
    "for i in iterable:\n",
    "    ...\n",
    "```\n",
    "\n",
    "iterable은 '반복 가능한'이라는 의미로 range, 리스트, 문자열 등이 해당합니다.\n"
   ]
  }
 ],
 "metadata": {
  "language_info": {
   "name": "python"
  }
 },
 "nbformat": 4,
 "nbformat_minor": 2
}
